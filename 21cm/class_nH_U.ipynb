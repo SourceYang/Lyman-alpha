{
 "cells": [
  {
   "cell_type": "code",
   "execution_count": 1,
   "id": "b7a52583",
   "metadata": {},
   "outputs": [],
   "source": [
    "import math\n",
    "import matplotlib.pyplot as plt\n",
    "import numpy as np\n",
    "import scipy.integrate as integrate\n",
    "import scipy.special as special\n",
    "import sys\n",
    "\n",
    "H_0 = 2.184e-18 # current hubble constant in s^-1\n",
    "H_r = 3.24076e-18 # 100 km/s/Mpc to 1/s\n",
    "h_0 = H_0 / H_r\n",
    "omega_m = 0.315 # current matter abundance\n",
    "omega_lambda = 0.685 # cosmological constant\n",
    "G = 6.6743e-8 # gravitational constant in cm^3 g^-1 s^-2\n",
    "f_He = 0.079 # helium fraction (do we use this number or it changes with redshitf?)\n",
    "f_H = 0.76 # hydrogen fraction\n",
    "nu_0 = 2.47e15 * 4 / 3 # center frequency of Lyman-alpha emission, in [Hz]\n",
    "C = 29979245800.0 # speed of light, in [cm s^-1]\n",
    "h = 6.6261e-27 # planck constant, in [cm^2 g s^-1]\n",
    "k = 1.380649e-16 # Boltzmann constant, in [g cm^2 s^-2 K^-1]\n",
    "omega_b_0 = 0.0224 / h_0 / h_0  # current baryon abundance\n",
    "m_H = 1.6735575e-24 # hydrogen atom mass in g"
   ]
  },
  {
   "cell_type": "code",
   "execution_count": 2,
   "id": "e8af70a1",
   "metadata": {},
   "outputs": [],
   "source": [
    "class front_velocity:\n",
    "    def __init__(self, z, T_bb, file_gamma_12, file_delta_m):\n",
    "        def load_binary_data(filename, dtype=np.float32):\n",
    "            \"\"\"\n",
    "            We assume that the data was written\n",
    "            with write_binary_data() (little endian).\n",
    "            \"\"\"\n",
    "            f = open(filename, \"rb\")\n",
    "            data = f.read()\n",
    "            f.close()\n",
    "            _data = np.frombuffer(data, dtype)\n",
    "            if sys.byteorder == 'big':\n",
    "                _data = _data.byteswap()\n",
    "            return _data\n",
    "        \n",
    "        gamma_12_origin = load_binary_data(file_gamma_12, dtype=np.float32) # photoionization rate\n",
    "        gamma_12 = [x * 1e-12 for x in gamma_12_origin] # convert to cgs unit\n",
    "        \n",
    "        def sigma_HI(dnu):\n",
    "            sigma_0 = 6.3e-18 # cm^2\n",
    "            nu = dnu + nu_0\n",
    "            epsilon = np.sqrt(nu / nu_0 - 1)\n",
    "            sigma = sigma_0 * (nu_0 / nu)**4 * np.exp(4 - 4 * np.arctan(epsilon) / epsilon) / (1 - np.exp(-2 * np.pi / epsilon))\n",
    "            return sigma\n",
    "    \n",
    "        def F_nu(dnu, T_bb):\n",
    "            nu = dnu + nu_0\n",
    "            f_nu = 2 * h * nu**3 / C**2 / (np.exp(h * nu / k / T_bb) - 1)/ h / nu\n",
    "            return f_nu\n",
    "\n",
    "        def int_F(T):\n",
    "            lowerlimit = (2.17872e-11 / h) - nu_0\n",
    "            upperlimit = (4 * 2.17872e-11 / h) - nu_0\n",
    "            int_f = integrate.quad(F_nu, lowerlimit, upperlimit, args=T)\n",
    "            return int_f\n",
    "\n",
    "        def H_F(dnu, T_bb):\n",
    "            sigma_0 = 6.3e-18 # cm^2\n",
    "            nu = dnu + nu_0\n",
    "            epsilon = np.sqrt(nu / nu_0 - 1)\n",
    "            sigma = sigma_0 * (nu_0 / nu)**4 * np.exp(4 - 4 * np.arctan(epsilon) / epsilon) / (1 - np.exp(-2 * np.pi / epsilon))\n",
    "            ex = np.float64(h * nu / k / T_bb) # if ex larger than 700, should use float128\n",
    "            f_nu = 2 * h * nu**3 / C**2 / (np.exp(ex) - 1) / h / nu\n",
    "            return sigma * f_nu\n",
    "\n",
    "        def int_Fsigma(T):\n",
    "            lowerlimit = (2.17872e-11 / h) - nu_0\n",
    "            upperlimit = (4 * 2.17872e-11 / h) - nu_0\n",
    "            int_F = integrate.quad(H_F, lowerlimit, upperlimit, args=T)\n",
    "            return int_F\n",
    "\n",
    "        def sigma_avg(T_bb):\n",
    "            Fsig = int_Fsigma(T_bb)\n",
    "            F = int_F(T_bb)\n",
    "            sigma = Fsig[0] / F[0]\n",
    "            return sigma\n",
    "    \n",
    "        sigma_H_avg = sigma_avg(T_bb)\n",
    "        omega_b = omega_b_0 * (1 + z)**3 # should be modified, depend on redshift\n",
    "        rho_crit = 3 * H_r * H_r / 8 / np.pi / G\n",
    "        delta_m = load_binary_data(file_delta_m, dtype=np.float32) # matter overdensity\n",
    "        \n",
    "        \n",
    "        def nH(delta_m_i):\n",
    "            return omega_b * f_H * rho_crit / m_H * (1 + delta_m_i)\n",
    "        \n",
    "        n_H = []\n",
    "        for i in range(len(delta_m)):\n",
    "            n_Hi = nH(delta_m[i])\n",
    "            n_H.append(n_Hi)\n",
    "        self.nH = n_H\n",
    "        \n",
    "        def U(gamma_12_i, sigma_H_i, n_Hi):\n",
    "            return gamma_12_i / sigma_H_i / (n_Hi * (1 + f_He) + gamma_12_i / sigma_H_i / C)\n",
    "        \n",
    "        U_front = []\n",
    "        for i in range(len(gamma_12)):\n",
    "            U_i = U(gamma_12[i], sigma_H_avg, n_H[i])\n",
    "            U_front.append(U_i)\n",
    "        self.U_front = U_front"
   ]
  },
  {
   "cell_type": "code",
   "execution_count": 3,
   "id": "bca476bf",
   "metadata": {},
   "outputs": [
    {
     "name": "stdout",
     "output_type": "stream",
     "text": [
      "2497048323.08339 9179507.895390982\n"
     ]
    },
    {
     "data": {
      "image/png": "[encoded data removed]",
      "text/plain": [
       "<Figure size 432x288 with 1 Axes>"
      ]
     },
     "metadata": {
      "needs_background": "light"
     },
     "output_type": "display_data"
    },
    {
     "name": "stdout",
     "output_type": "stream",
     "text": [
      "0.0029281563612941273 4.14544652946338e-05\n"
     ]
    },
    {
     "data": {
      "image/png": "[encoded data removed]",
      "text/plain": [
       "<Figure size 432x288 with 1 Axes>"
      ]
     },
     "metadata": {
      "needs_background": "light"
     },
     "output_type": "display_data"
    }
   ],
   "source": [
    "z = 8.11 # redshift, could be modified\n",
    "T_bb = 50000 # may be modified\n",
    "file_gamma_12 = r'C:\\data\\Gamma12aveHII_z008.11_HIIfilter1_RHIImax50_200_300Mpc' # direction of gamma_12\n",
    "file_delta_m = r'C:\\data\\updated_smoothed_deltax_z008.11_200_300Mpc' # direction of delta_m\n",
    "\n",
    "data = front_velocity(z, T_bb, file_gamma_12, file_delta_m)\n",
    "nH = data.nH\n",
    "U_front = data.U_front\n",
    "\n",
    "U_front_non0 = []\n",
    "\n",
    "for i in range(len(U_front)):\n",
    "    if U_front[i] != 0:\n",
    "        U_front_non0.append(U_front[i])\n",
    "        \n",
    "print(max(U_front_non0), min(U_front_non0))\n",
    "\n",
    "plt.hist(U_front_non0, bins = 500)\n",
    "plt.title('U')\n",
    "plt.show()\n",
    "\n",
    "print(max(nH), min(nH))\n",
    "\n",
    "plt.hist(nH, bins = 500)\n",
    "plt.title('nH')\n",
    "plt.show()"
   ]
  },
  {
   "cell_type": "code",
   "execution_count": 4,
   "id": "6d64af88",
   "metadata": {},
   "outputs": [
    {
     "name": "stdout",
     "output_type": "stream",
     "text": [
      "16673647150.874441 67513813.12917551\n"
     ]
    },
    {
     "data": {
      "image/png": "[encoded data removed]",
      "text/plain": [
       "<Figure size 432x288 with 1 Axes>"
      ]
     },
     "metadata": {
      "needs_background": "light"
     },
     "output_type": "display_data"
    },
    {
     "name": "stdout",
     "output_type": "stream",
     "text": [
      "0.002277323145840227 3.3507853272960753e-06\n"
     ]
    },
    {
     "data": {
      "image/png": "[encoded data removed]",
      "text/plain": [
       "<Figure size 432x288 with 1 Axes>"
      ]
     },
     "metadata": {
      "needs_background": "light"
     },
     "output_type": "display_data"
    }
   ],
   "source": [
    "z = 5.9 # redshift, could be modified\n",
    "T_bb = 50000 # may be modified\n",
    "file_gamma_12 = r'C:\\data\\Gamma12aveHII_z005.90_HIIfilter1_RHIImax50_200_300Mpc' # direction of gamma_12\n",
    "file_delta_m = r'C:\\data\\updated_smoothed_deltax_z005.90_200_300Mpc' # direction of delta_m\n",
    "\n",
    "data = front_velocity(z, T_bb, file_gamma_12, file_delta_m)\n",
    "nH = data.nH\n",
    "U_front = data.U_front\n",
    "\n",
    "U_front_non0 = []\n",
    "\n",
    "for i in range(len(U_front)):\n",
    "    if U_front[i] != 0:\n",
    "        U_front_non0.append(U_front[i])\n",
    "        \n",
    "print(max(U_front_non0), min(U_front_non0))\n",
    "\n",
    "plt.hist(U_front_non0, bins = 500)\n",
    "plt.title('U')\n",
    "plt.show()\n",
    "\n",
    "print(max(nH), min(nH))\n",
    "\n",
    "plt.hist(nH, bins = 500)\n",
    "plt.title('nH')\n",
    "plt.show()"
   ]
  },
  {
   "cell_type": "code",
   "execution_count": 5,
   "id": "8992acab",
   "metadata": {},
   "outputs": [
    {
     "name": "stdout",
     "output_type": "stream",
     "text": [
      "57782660.55694863 8163371.765348336\n"
     ]
    },
    {
     "data": {
      "image/png": "[encoded data removed]",
      "text/plain": [
       "<Figure size 432x288 with 1 Axes>"
      ]
     },
     "metadata": {
      "needs_background": "light"
     },
     "output_type": "display_data"
    },
    {
     "name": "stdout",
     "output_type": "stream",
     "text": [
      "0.014344893234854406 0.0017403898928288418\n"
     ]
    },
    {
     "data": {
      "image/png": "[encoded data removed]",
      "text/plain": [
       "<Figure size 432x288 with 1 Axes>"
      ]
     },
     "metadata": {
      "needs_background": "light"
     },
     "output_type": "display_data"
    }
   ],
   "source": [
    "z = 21.2 # redshift, could be modified\n",
    "T_bb = 50000 # may be modified\n",
    "file_gamma_12 = r'C:\\data\\Gamma12aveHII_z021.20_HIIfilter1_RHIImax50_200_300Mpc' # direction of gamma_12\n",
    "file_delta_m = r'C:\\data\\updated_smoothed_deltax_z021.20_200_300Mpc' # direction of delta_m\n",
    "\n",
    "data = front_velocity(z, T_bb, file_gamma_12, file_delta_m)\n",
    "nH = data.nH\n",
    "U_front = data.U_front\n",
    "\n",
    "U_front_non0 = []\n",
    "\n",
    "for i in range(len(U_front)):\n",
    "    if U_front[i] != 0:\n",
    "        U_front_non0.append(U_front[i])\n",
    "        \n",
    "print(max(U_front_non0), min(U_front_non0))\n",
    "\n",
    "plt.hist(U_front_non0, bins = 500)\n",
    "plt.title('U')\n",
    "plt.show()\n",
    "\n",
    "print(max(nH), min(nH))\n",
    "\n",
    "plt.hist(nH, bins = 500)\n",
    "plt.title('nH')\n",
    "plt.show()"
   ]
  },
  {
   "cell_type": "code",
   "execution_count": null,
   "id": "c98038fd",
   "metadata": {},
   "outputs": [],
   "source": []
  }
 ],
 "metadata": {
  "kernelspec": {
   "display_name": "Python 3 (ipykernel)",
   "language": "python",
   "name": "python3"
  },
  "language_info": {
   "codemirror_mode": {
    "name": "ipython",
    "version": 3
   },
   "file_extension": ".py",
   "mimetype": "text/x-python",
   "name": "python",
   "nbconvert_exporter": "python",
   "pygments_lexer": "ipython3",
   "version": "3.9.7"
  }
 },
 "nbformat": 4,
 "nbformat_minor": 5
}
