{
 "cells": [
  {
   "cell_type": "code",
   "execution_count": 18,
   "id": "420be763",
   "metadata": {},
   "outputs": [],
   "source": [
    "import math\n",
    "import matplotlib.pyplot as plt\n",
    "import numpy as np\n",
    "import scipy.integrate as integrate\n",
    "import scipy.special as special\n",
    "import sys\n",
    "import h5py\n",
    "\n",
    "H_0 = 2.184e-18 # current hubble constant in s^-1\n",
    "H_r = 3.24076e-18 # 100 km/s/Mpc to 1/s\n",
    "h_0 = H_0 / H_r\n",
    "omega_m = 0.315 # current matter abundance\n",
    "omega_lambda = 0.685 # cosmological constant\n",
    "G = 6.6743e-8 # gravitational constant in cm^3 g^-1 s^-2\n",
    "f_He = 0.079 # helium fraction\n",
    "f_H = 0.76 # hydrogen fraction\n",
    "nu_0 = 2.47e15 * 4 / 3 # center frequency of Lyman-alpha emission, in [Hz]\n",
    "C = 29979245800.0 # speed of light, in [cm s^-1]\n",
    "h = 6.6261e-27 # planck constant, in [cm^2 g s^-1]\n",
    "k = 1.380649e-16 # Boltzmann constant, in [g cm^2 s^-2 K^-1]\n",
    "omega_b_0 = 0.0224 / h_0 / h_0  # current baryon abundance\n",
    "m_H = 1.6735575e-24 # hydrogen atom mass in g\n",
    "\n",
    "T_bb = 47834.5 # 21cmFAST setting blackbody temperature in K"
   ]
  },
  {
   "cell_type": "code",
   "execution_count": 14,
   "id": "10c5c387",
   "metadata": {},
   "outputs": [],
   "source": [
    "def sigma_HI(dnu):\n",
    "    sigma_0 = 6.3e-18 # cm^2\n",
    "    nu = dnu + nu_0\n",
    "    epsilon = np.sqrt(nu / nu_0 - 1)\n",
    "    sigma = sigma_0 * (nu_0 / nu)**4 * np.exp(4 - 4 * np.arctan(epsilon) / epsilon) / (1 - np.exp(-2 * np.pi / epsilon))\n",
    "    return sigma\n",
    "    \n",
    "def F_nu(dnu, T_bb):\n",
    "    nu = dnu + nu_0\n",
    "    f_nu = 2 * h * nu**3 / C**2 / (np.exp(h * nu / k / T_bb) - 1)/ h / nu\n",
    "    return f_nu\n",
    "\n",
    "def int_F(T):\n",
    "    lowerlimit = (2.17872e-11 / h) - nu_0\n",
    "    upperlimit = (4 * 2.17872e-11 / h) - nu_0\n",
    "    int_f = integrate.quad(F_nu, lowerlimit, upperlimit, args=T)\n",
    "    return int_f\n",
    "\n",
    "def H_F(dnu, T_bb):\n",
    "    sigma_0 = 6.3e-18 # cm^2\n",
    "    nu = dnu + nu_0\n",
    "    epsilon = np.sqrt(nu / nu_0 - 1)\n",
    "    sigma = sigma_0 * (nu_0 / nu)**4 * np.exp(4 - 4 * np.arctan(epsilon) / epsilon) / (1 - np.exp(-2 * np.pi / epsilon))\n",
    "    ex = np.float64(h * nu / k / T_bb) # if ex larger than 700, should use float128\n",
    "    f_nu = 2 * h * nu**3 / C**2 / (np.exp(ex) - 1) / h / nu\n",
    "    return sigma * f_nu\n",
    "\n",
    "def int_Fsigma(T):\n",
    "    lowerlimit = (2.17872e-11 / h) - nu_0\n",
    "    upperlimit = (4 * 2.17872e-11 / h) - nu_0\n",
    "    int_F = integrate.quad(H_F, lowerlimit, upperlimit, args=T)\n",
    "    return int_F\n",
    "\n",
    "def sigma_avg(T_bb):\n",
    "    Fsig = int_Fsigma(T_bb)\n",
    "    F = int_F(T_bb)\n",
    "    sigma = Fsig[0] / F[0]\n",
    "    return sigma"
   ]
  },
  {
   "cell_type": "code",
   "execution_count": 38,
   "id": "ad58d3e1",
   "metadata": {},
   "outputs": [],
   "source": [
    "class front_velocity:\n",
    "    def __init__(self, z, T_bb, gamma_12, delta_m):\n",
    "        gamma_12 = gamma_12 * 1e-12 # convert to cgs unit\n",
    "        self.z = z\n",
    "        self.T_bb = T_bb\n",
    "        self.gamma_12 = gamma_12\n",
    "        self.delta_m = delta_m\n",
    "        \n",
    "    def nH(self):\n",
    "        omega_b = omega_b_0 * (1 + self.z)**3\n",
    "        rho_crit = 3 * H_r * H_r / 8 / np.pi / G\n",
    "        return omega_b * f_H * rho_crit / m_H * (1 + self.delta_m)\n",
    "        \n",
    "    def U(self):\n",
    "        sigma_H_avg = sigma_avg(self.T_bb)\n",
    "        nH = self.nH()\n",
    "        return self.gamma_12 / sigma_H_avg / (nH * (1 + f_He) + self.gamma_12 / sigma_H_avg / C)"
   ]
  },
  {
   "cell_type": "code",
   "execution_count": 39,
   "id": "c29ac9ce",
   "metadata": {},
   "outputs": [
    {
     "name": "stdout",
     "output_type": "stream",
     "text": [
      "0.0002745485148013581\n",
      "0.0\n"
     ]
    }
   ],
   "source": [
    "def load_binary_data(filename, dtype=np.float32):\n",
    "    \"\"\"\n",
    "    We assume that the data was written\n",
    "    with write_binary_data() (little endian).\n",
    "    \"\"\"\n",
    "    f = open(filename, \"rb\")\n",
    "    data = f.read()\n",
    "    f.close()\n",
    "    _data = np.frombuffer(data, dtype)\n",
    "    if sys.byteorder == 'big':\n",
    "        _data = _data.byteswap()\n",
    "    return _data\n",
    "\n",
    "file_gamma_12 = r'C:\\data\\Gamma12aveHII_z008.11_HIIfilter1_RHIImax50_200_300Mpc' # direction of gamma_12\n",
    "file_delta_m = r'C:\\data\\updated_smoothed_deltax_z008.11_200_300Mpc' # direction of delta_m\n",
    "\n",
    "gamma_12_origin = load_binary_data(file_gamma_12, dtype=np.float32) # photoionization rate\n",
    "delta_m_origin = load_binary_data(file_delta_m, dtype=np.float32) # matter overdensity\n",
    "\n",
    "z = 8.11\n",
    "data = front_velocity(z, T_bb, gamma_12_origin[0], delta_m[0])\n",
    "\n",
    "print(data.nH())\n",
    "print(data.U())"
   ]
  },
  {
   "cell_type": "code",
   "execution_count": null,
   "id": "3833385b",
   "metadata": {},
   "outputs": [],
   "source": []
  }
 ],
 "metadata": {
  "kernelspec": {
   "display_name": "Python 3 (ipykernel)",
   "language": "python",
   "name": "python3"
  },
  "language_info": {
   "codemirror_mode": {
    "name": "ipython",
    "version": 3
   },
   "file_extension": ".py",
   "mimetype": "text/x-python",
   "name": "python",
   "nbconvert_exporter": "python",
   "pygments_lexer": "ipython3",
   "version": "3.9.7"
  }
 },
 "nbformat": 4,
 "nbformat_minor": 5
}
